{
 "cells": [
  {
   "cell_type": "markdown",
   "metadata": {},
   "source": [
    "# Data loading and preprocessing"
   ]
  },
  {
   "cell_type": "code",
   "execution_count": 1,
   "metadata": {},
   "outputs": [],
   "source": [
    "import numpy as np\n",
    "import pandas as pd\n",
    "import seaborn as sns\n",
    "from tensorflow import keras "
   ]
  },
  {
   "cell_type": "code",
   "execution_count": 2,
   "metadata": {},
   "outputs": [],
   "source": [
    "data = pd.read_csv('covid.csv')"
   ]
  },
  {
   "cell_type": "code",
   "execution_count": 3,
   "metadata": {},
   "outputs": [],
   "source": [
    "data = data.drop(['id'], axis = 1)"
   ]
  },
  {
   "cell_type": "code",
   "execution_count": 4,
   "metadata": {
    "scrolled": false
   },
   "outputs": [
    {
     "data": {
      "text/plain": [
       "Index(['sex', 'patient_type', 'entry_date', 'date_symptoms', 'date_died',\n",
       "       'intubed', 'pneumonia', 'age', 'pregnancy', 'diabetes', 'copd',\n",
       "       'asthma', 'inmsupr', 'hypertension', 'other_disease', 'cardiovascular',\n",
       "       'obesity', 'renal_chronic', 'tobacco', 'contact_other_covid',\n",
       "       'covid_res', 'icu'],\n",
       "      dtype='object')"
      ]
     },
     "execution_count": 4,
     "metadata": {},
     "output_type": "execute_result"
    }
   ],
   "source": [
    "data.columns"
   ]
  },
  {
   "cell_type": "code",
   "execution_count": 5,
   "metadata": {},
   "outputs": [],
   "source": [
    "data.update(data[['sex', 'patient_type','intubed','pneumonia','pregnancy','inmsupr','hypertension','other_disease','cardiovascular','obesity','renal_chronic', 'diabetes', 'copd', 'asthma', 'tobacco', 'contact_other_covid', 'covid_res', 'icu']].replace(2,0).replace([97, 98, 99], 9))"
   ]
  },
  {
   "cell_type": "code",
   "execution_count": 6,
   "metadata": {},
   "outputs": [
    {
     "data": {
      "text/plain": [
       "9    444814\n",
       "0    111676\n",
       "1     10112\n",
       "Name: icu, dtype: int64"
      ]
     },
     "execution_count": 6,
     "metadata": {},
     "output_type": "execute_result"
    }
   ],
   "source": [
    "data[\"icu\"].value_counts()"
   ]
  },
  {
   "cell_type": "code",
   "execution_count": 7,
   "metadata": {},
   "outputs": [],
   "source": [
    "data = data[data.icu != 9]"
   ]
  },
  {
   "cell_type": "code",
   "execution_count": 8,
   "metadata": {
    "scrolled": true
   },
   "outputs": [
    {
     "name": "stdout",
     "output_type": "stream",
     "text": [
      "0    72999\n",
      "1    48789\n",
      "Name: sex, dtype: int64\n",
      "0    121788\n",
      "Name: patient_type, dtype: int64\n",
      "15-06-2020    2245\n",
      "22-06-2020    2162\n",
      "08-06-2020    2131\n",
      "16-06-2020    2120\n",
      "10-06-2020    2074\n",
      "              ... \n",
      "01-02-2020       6\n",
      "01-01-2020       5\n",
      "11-01-2020       5\n",
      "03-01-2020       5\n",
      "02-01-2020       4\n",
      "Name: entry_date, Length: 181, dtype: int64\n",
      "01-06-2020    2892\n",
      "15-06-2020    2361\n",
      "10-06-2020    2332\n",
      "25-05-2020    2140\n",
      "08-06-2020    2127\n",
      "              ... \n",
      "01-01-2020       8\n",
      "18-02-2020       8\n",
      "08-01-2020       7\n",
      "20-02-2020       5\n",
      "19-02-2020       5\n",
      "Name: date_symptoms, Length: 181, dtype: int64\n",
      "9999-99-99    89286\n",
      "16-06-2020      628\n",
      "08-06-2020      615\n",
      "10-06-2020      612\n",
      "12-06-2020      593\n",
      "              ...  \n",
      "30-01-2020        1\n",
      "25-02-2020        1\n",
      "08-02-2020        1\n",
      "15-01-2020        1\n",
      "14-01-2020        1\n",
      "Name: date_died, Length: 124, dtype: int64\n",
      "0    111823\n",
      "1      9965\n",
      "Name: intubed, dtype: int64\n",
      "1    73688\n",
      "0    48100\n",
      "Name: pneumonia, dtype: int64\n",
      "56     2905\n",
      "52     2780\n",
      "60     2734\n",
      "61     2689\n",
      "59     2671\n",
      "       ... \n",
      "106       1\n",
      "109       1\n",
      "115       1\n",
      "103       1\n",
      "118       1\n",
      "Name: age, Length: 110, dtype: int64\n",
      "9    73165\n",
      "0    47554\n",
      "1     1069\n",
      "Name: pregnancy, dtype: int64\n",
      "0    85674\n",
      "1    35445\n",
      "9      669\n",
      "Name: diabetes, dtype: int64\n",
      "0    115713\n",
      "1      5491\n",
      "9       584\n",
      "Name: copd, dtype: int64\n",
      "0    118062\n",
      "1      3141\n",
      "9       585\n",
      "Name: asthma, dtype: int64\n",
      "0    116388\n",
      "1      4722\n",
      "9       678\n",
      "Name: inmsupr, dtype: int64\n",
      "0    80877\n",
      "1    40302\n",
      "9      609\n",
      "Name: hypertension, dtype: int64\n",
      "0    113466\n",
      "1      7282\n",
      "9      1040\n",
      "Name: other_disease, dtype: int64\n",
      "0    114842\n",
      "1      6300\n",
      "9       646\n",
      "Name: cardiovascular, dtype: int64\n",
      "0    96060\n",
      "1    25094\n",
      "9      634\n",
      "Name: obesity, dtype: int64\n",
      "0    113945\n",
      "1      7234\n",
      "9       609\n",
      "Name: renal_chronic, dtype: int64\n",
      "0    110413\n",
      "1     10736\n",
      "9       639\n",
      "Name: tobacco, dtype: int64\n",
      "9    62090\n",
      "0    42452\n",
      "1    17246\n",
      "Name: contact_other_covid, dtype: int64\n",
      "1    68210\n",
      "0    39213\n",
      "3    14365\n",
      "Name: covid_res, dtype: int64\n",
      "0    111676\n",
      "1     10112\n",
      "Name: icu, dtype: int64\n"
     ]
    }
   ],
   "source": [
    "for i in data.columns:\n",
    "    print(data[i].value_counts())"
   ]
  },
  {
   "cell_type": "code",
   "execution_count": 9,
   "metadata": {},
   "outputs": [
    {
     "data": {
      "text/plain": [
       "9    73165\n",
       "0    47554\n",
       "1     1069\n",
       "Name: pregnancy, dtype: int64"
      ]
     },
     "execution_count": 9,
     "metadata": {},
     "output_type": "execute_result"
    }
   ],
   "source": [
    "data['pregnancy'].value_counts()\n"
   ]
  },
  {
   "cell_type": "code",
   "execution_count": 10,
   "metadata": {},
   "outputs": [
    {
     "data": {
      "text/plain": [
       "9    62090\n",
       "0    42452\n",
       "1    17246\n",
       "Name: contact_other_covid, dtype: int64"
      ]
     },
     "execution_count": 10,
     "metadata": {},
     "output_type": "execute_result"
    }
   ],
   "source": [
    "data['contact_other_covid'].value_counts()"
   ]
  },
  {
   "cell_type": "code",
   "execution_count": 11,
   "metadata": {},
   "outputs": [],
   "source": [
    "data.drop('pregnancy', axis = 1, inplace = True)\n",
    "data.drop('contact_other_covid', axis = 1, inplace = True)"
   ]
  },
  {
   "cell_type": "code",
   "execution_count": 12,
   "metadata": {},
   "outputs": [],
   "source": [
    "data = data[['sex', 'patient_type', 'entry_date', 'date_symptoms',\n",
    "       'date_died', 'intubed', 'pneumonia', 'age', 'diabetes',\n",
    "       'copd', 'asthma', 'inmsupr', 'hypertension', 'other_disease',\n",
    "       'cardiovascular', 'obesity', 'renal_chronic', 'tobacco'\n",
    "        ,'covid_res', 'icu']].replace([9, 3], np.nan).dropna()"
   ]
  },
  {
   "cell_type": "code",
   "execution_count": 13,
   "metadata": {},
   "outputs": [
    {
     "data": {
      "text/plain": [
       "(105538, 20)"
      ]
     },
     "execution_count": 13,
     "metadata": {},
     "output_type": "execute_result"
    }
   ],
   "source": [
    "data.shape"
   ]
  },
  {
   "cell_type": "code",
   "execution_count": 14,
   "metadata": {
    "scrolled": true
   },
   "outputs": [
    {
     "name": "stdout",
     "output_type": "stream",
     "text": [
      "0    63308\n",
      "1    42230\n",
      "Name: sex, dtype: int64\n",
      "0    105538\n",
      "Name: patient_type, dtype: int64\n",
      "15-06-2020    1965\n",
      "08-06-2020    1909\n",
      "01-06-2020    1847\n",
      "10-06-2020    1844\n",
      "16-06-2020    1828\n",
      "              ... \n",
      "03-01-2020       5\n",
      "01-01-2020       5\n",
      "11-01-2020       5\n",
      "02-01-2020       4\n",
      "29-06-2020       2\n",
      "Name: entry_date, Length: 181, dtype: int64\n",
      "01-06-2020    2631\n",
      "10-06-2020    2031\n",
      "25-05-2020    1934\n",
      "20-05-2020    1872\n",
      "08-06-2020    1868\n",
      "              ... \n",
      "18-02-2020       8\n",
      "20-02-2020       5\n",
      "19-02-2020       5\n",
      "08-01-2020       5\n",
      "28-06-2020       1\n",
      "Name: date_symptoms, Length: 180, dtype: int64\n",
      "9999-99-99    75348\n",
      "16-06-2020      594\n",
      "08-06-2020      563\n",
      "10-06-2020      562\n",
      "12-06-2020      550\n",
      "              ...  \n",
      "14-01-2020        1\n",
      "30-01-2020        1\n",
      "26-02-2020        1\n",
      "09-02-2020        1\n",
      "11-02-2020        1\n",
      "Name: date_died, Length: 122, dtype: int64\n",
      "0    96778\n",
      "1     8760\n",
      "Name: intubed, dtype: int64\n",
      "1    64785\n",
      "0    40753\n",
      "Name: pneumonia, dtype: int64\n",
      "56.0     2498\n",
      "52.0     2432\n",
      "60.0     2348\n",
      "61.0     2332\n",
      "59.0     2304\n",
      "         ... \n",
      "109.0       1\n",
      "106.0       1\n",
      "103.0       1\n",
      "118.0       1\n",
      "115.0       1\n",
      "Name: age, Length: 107, dtype: int64\n",
      "0.0    74479\n",
      "1.0    31059\n",
      "Name: diabetes, dtype: int64\n",
      "0.0    100594\n",
      "1.0      4944\n",
      "Name: copd, dtype: int64\n",
      "0.0    102761\n",
      "1.0      2777\n",
      "Name: asthma, dtype: int64\n",
      "0.0    101386\n",
      "1.0      4152\n",
      "Name: inmsupr, dtype: int64\n",
      "0.0    70322\n",
      "1.0    35216\n",
      "Name: hypertension, dtype: int64\n",
      "0.0    99104\n",
      "1.0     6434\n",
      "Name: other_disease, dtype: int64\n",
      "0.0    99971\n",
      "1.0     5567\n",
      "Name: cardiovascular, dtype: int64\n",
      "0.0    83341\n",
      "1.0    22197\n",
      "Name: obesity, dtype: int64\n",
      "0.0    99102\n",
      "1.0     6436\n",
      "Name: renal_chronic, dtype: int64\n",
      "0.0    96021\n",
      "1.0     9517\n",
      "Name: tobacco, dtype: int64\n",
      "1.0    67246\n",
      "0.0    38292\n",
      "Name: covid_res, dtype: int64\n",
      "0    96817\n",
      "1     8721\n",
      "Name: icu, dtype: int64\n"
     ]
    }
   ],
   "source": [
    "for i in data.columns:\n",
    "    print(data[i].value_counts())"
   ]
  },
  {
   "cell_type": "code",
   "execution_count": 15,
   "metadata": {},
   "outputs": [
    {
     "data": {
      "text/plain": [
       "0    105538\n",
       "Name: patient_type, dtype: int64"
      ]
     },
     "execution_count": 15,
     "metadata": {},
     "output_type": "execute_result"
    }
   ],
   "source": [
    "data['patient_type'].value_counts()"
   ]
  },
  {
   "cell_type": "code",
   "execution_count": 16,
   "metadata": {},
   "outputs": [],
   "source": [
    "data = data.drop(['entry_date', 'date_symptoms', 'patient_type', 'date_died', 'age'], axis = 1)"
   ]
  },
  {
   "cell_type": "code",
   "execution_count": 17,
   "metadata": {},
   "outputs": [
    {
     "data": {
      "text/plain": [
       "(105538, 15)"
      ]
     },
     "execution_count": 17,
     "metadata": {},
     "output_type": "execute_result"
    }
   ],
   "source": [
    "data.shape"
   ]
  },
  {
   "cell_type": "code",
   "execution_count": 18,
   "metadata": {},
   "outputs": [],
   "source": [
    "X_icu = data.drop('icu', axis = 1)\n",
    "y_icu = data['icu']"
   ]
  },
  {
   "cell_type": "code",
   "execution_count": 19,
   "metadata": {},
   "outputs": [
    {
     "data": {
      "text/plain": [
       "(105538, 14)"
      ]
     },
     "execution_count": 19,
     "metadata": {},
     "output_type": "execute_result"
    }
   ],
   "source": [
    "X_icu.shape"
   ]
  },
  {
   "cell_type": "code",
   "execution_count": 20,
   "metadata": {},
   "outputs": [
    {
     "data": {
      "text/plain": [
       "(105538,)"
      ]
     },
     "execution_count": 20,
     "metadata": {},
     "output_type": "execute_result"
    }
   ],
   "source": [
    "y_icu.shape"
   ]
  },
  {
   "cell_type": "code",
   "execution_count": 21,
   "metadata": {},
   "outputs": [],
   "source": [
    "from sklearn.model_selection import train_test_split"
   ]
  },
  {
   "cell_type": "code",
   "execution_count": 22,
   "metadata": {},
   "outputs": [],
   "source": [
    "X_train, X_test, y_train, y_test = train_test_split(X_icu, y_icu, test_size = 0.2)"
   ]
  },
  {
   "cell_type": "code",
   "execution_count": 23,
   "metadata": {},
   "outputs": [],
   "source": [
    "X_valid, y_valid = X_test[:2200], y_test[:2200]"
   ]
  },
  {
   "cell_type": "code",
   "execution_count": null,
   "metadata": {},
   "outputs": [],
   "source": []
  },
  {
   "cell_type": "code",
   "execution_count": 24,
   "metadata": {},
   "outputs": [
    {
     "data": {
      "text/plain": [
       "(84430, 14)"
      ]
     },
     "execution_count": 24,
     "metadata": {},
     "output_type": "execute_result"
    }
   ],
   "source": [
    "X_train.shape"
   ]
  },
  {
   "cell_type": "code",
   "execution_count": 25,
   "metadata": {},
   "outputs": [],
   "source": [
    "from sklearn.preprocessing import StandardScaler\n",
    "scaler = StandardScaler()\n",
    "X_train = scaler.fit_transform(X_train)\n",
    "X_test = scaler.fit_transform(X_test)"
   ]
  },
  {
   "cell_type": "code",
   "execution_count": 26,
   "metadata": {},
   "outputs": [],
   "source": [
    "adam = keras.optimizers.Adam(learning_rate=0.01)"
   ]
  },
  {
   "cell_type": "code",
   "execution_count": 27,
   "metadata": {},
   "outputs": [],
   "source": [
    "model = keras.models.Sequential()\n",
    "model.add(keras.layers.Dense(300, activation = \"relu\"))\n",
    "model.add(keras.layers.Dense(150, activation = \"relu\"))\n",
    "model.add(keras.layers.Dense(75, activation = \"relu\"))\n",
    "model.add(keras.layers.Dense(1, activation = \"sigmoid\"))"
   ]
  },
  {
   "cell_type": "code",
   "execution_count": 29,
   "metadata": {},
   "outputs": [],
   "source": [
    "model.compile(loss = 'binary_crossentropy', optimizer=adam, metrics=['accuracy'])"
   ]
  },
  {
   "cell_type": "code",
   "execution_count": 30,
   "metadata": {
    "scrolled": false
   },
   "outputs": [
    {
     "name": "stdout",
     "output_type": "stream",
     "text": [
      "Epoch 1/30\n",
      "2639/2639 [==============================] - 18s 6ms/step - loss: 0.2379 - accuracy: 0.9160 - val_loss: 0.2499 - val_accuracy: 0.9232\n",
      "Epoch 2/30\n",
      "2639/2639 [==============================] - 13s 5ms/step - loss: 0.2319 - accuracy: 0.9172 - val_loss: 0.2326 - val_accuracy: 0.9232\n",
      "Epoch 3/30\n",
      "2639/2639 [==============================] - 13s 5ms/step - loss: 0.2283 - accuracy: 0.9175 - val_loss: 0.2278 - val_accuracy: 0.9232\n",
      "Epoch 4/30\n",
      "2639/2639 [==============================] - 14s 5ms/step - loss: 0.2269 - accuracy: 0.9184 - val_loss: 0.2296 - val_accuracy: 0.9232\n",
      "Epoch 5/30\n",
      "2639/2639 [==============================] - 14s 5ms/step - loss: 0.2293 - accuracy: 0.9149 - val_loss: 0.2211 - val_accuracy: 0.9200\n",
      "Epoch 6/30\n",
      "2639/2639 [==============================] - 14s 5ms/step - loss: 0.2269 - accuracy: 0.9163 - val_loss: 0.2261 - val_accuracy: 0.9232\n",
      "Epoch 7/30\n",
      "2639/2639 [==============================] - 14s 5ms/step - loss: 0.2260 - accuracy: 0.9159 - val_loss: 0.2255 - val_accuracy: 0.9205\n",
      "Epoch 8/30\n",
      "2639/2639 [==============================] - 15s 6ms/step - loss: 0.2263 - accuracy: 0.9176 - val_loss: 0.2498 - val_accuracy: 0.9086\n",
      "Epoch 9/30\n",
      "2639/2639 [==============================] - 14s 5ms/step - loss: 0.2293 - accuracy: 0.9165 - val_loss: 0.2385 - val_accuracy: 0.9232\n",
      "Epoch 10/30\n",
      "2639/2639 [==============================] - 15s 6ms/step - loss: 0.2293 - accuracy: 0.9154 - val_loss: 0.2445 - val_accuracy: 0.9100\n",
      "Epoch 11/30\n",
      "2639/2639 [==============================] - 15s 6ms/step - loss: 0.2237 - accuracy: 0.9177 - val_loss: 0.2463 - val_accuracy: 0.9086\n",
      "Epoch 12/30\n",
      "2639/2639 [==============================] - 15s 6ms/step - loss: 0.2273 - accuracy: 0.9161 - val_loss: 0.2458 - val_accuracy: 0.9086\n",
      "Epoch 13/30\n",
      "2639/2639 [==============================] - 15s 6ms/step - loss: 0.2307 - accuracy: 0.9148 - val_loss: 0.2447 - val_accuracy: 0.9100\n",
      "Epoch 14/30\n",
      "2639/2639 [==============================] - 14s 5ms/step - loss: 0.2255 - accuracy: 0.9188 - val_loss: 0.2411 - val_accuracy: 0.9232\n",
      "Epoch 15/30\n",
      "2639/2639 [==============================] - 15s 6ms/step - loss: 0.2261 - accuracy: 0.9162 - val_loss: 0.2397 - val_accuracy: 0.9232\n",
      "Epoch 16/30\n",
      "2639/2639 [==============================] - 15s 6ms/step - loss: 0.2269 - accuracy: 0.9168 - val_loss: 0.2509 - val_accuracy: 0.9086\n",
      "Epoch 17/30\n",
      "2639/2639 [==============================] - 15s 6ms/step - loss: 0.2267 - accuracy: 0.9158 - val_loss: 0.2492 - val_accuracy: 0.9086\n",
      "Epoch 18/30\n",
      "2639/2639 [==============================] - 14s 5ms/step - loss: 0.2241 - accuracy: 0.9190 - val_loss: 0.2470 - val_accuracy: 0.9086\n",
      "Epoch 19/30\n",
      "2639/2639 [==============================] - 15s 6ms/step - loss: 0.2189 - accuracy: 0.9195 - val_loss: 0.2428 - val_accuracy: 0.9100\n",
      "Epoch 20/30\n",
      "2639/2639 [==============================] - 13s 5ms/step - loss: 0.2260 - accuracy: 0.9175 - val_loss: 0.2452 - val_accuracy: 0.9100\n",
      "Epoch 21/30\n",
      "2639/2639 [==============================] - 14s 5ms/step - loss: 0.2256 - accuracy: 0.9185 - val_loss: 0.2450 - val_accuracy: 0.9100\n",
      "Epoch 22/30\n",
      "2639/2639 [==============================] - 13s 5ms/step - loss: 0.2266 - accuracy: 0.9164 - val_loss: 0.2451 - val_accuracy: 0.9086\n",
      "Epoch 23/30\n",
      "2639/2639 [==============================] - 13s 5ms/step - loss: 0.2292 - accuracy: 0.9165 - val_loss: 0.2401 - val_accuracy: 0.9232\n",
      "Epoch 24/30\n",
      "2639/2639 [==============================] - 13s 5ms/step - loss: 0.2275 - accuracy: 0.9172 - val_loss: 0.2439 - val_accuracy: 0.9100\n",
      "Epoch 25/30\n",
      "2639/2639 [==============================] - 12s 5ms/step - loss: 0.2236 - accuracy: 0.9176 - val_loss: 0.2397 - val_accuracy: 0.9232\n",
      "Epoch 26/30\n",
      "2639/2639 [==============================] - 13s 5ms/step - loss: 0.2250 - accuracy: 0.9181 - val_loss: 0.2422 - val_accuracy: 0.9105\n",
      "Epoch 27/30\n",
      "2639/2639 [==============================] - 13s 5ms/step - loss: 0.2284 - accuracy: 0.9173 - val_loss: 0.2403 - val_accuracy: 0.9232\n",
      "Epoch 28/30\n",
      "2639/2639 [==============================] - 13s 5ms/step - loss: 0.2273 - accuracy: 0.9179 - val_loss: 0.2431 - val_accuracy: 0.9100\n",
      "Epoch 29/30\n",
      "2639/2639 [==============================] - 13s 5ms/step - loss: 0.2298 - accuracy: 0.9154 - val_loss: 0.2418 - val_accuracy: 0.9105\n",
      "Epoch 30/30\n",
      "2639/2639 [==============================] - 14s 5ms/step - loss: 0.2247 - accuracy: 0.9172 - val_loss: 0.2418 - val_accuracy: 0.9105\n"
     ]
    }
   ],
   "source": [
    "history = model.fit(X_train, y_train, epochs=30, validation_data=(X_valid, y_valid))"
   ]
  },
  {
   "cell_type": "code",
   "execution_count": 31,
   "metadata": {},
   "outputs": [
    {
     "data": {
      "text/plain": [
       "<matplotlib.axes._subplots.AxesSubplot at 0x1e191704820>"
      ]
     },
     "execution_count": 31,
     "metadata": {},
     "output_type": "execute_result"
    },
    {
     "data": {
      "image/png": "[encoded data removed]",
      "text/plain": [
       "<Figure size 432x288 with 1 Axes>"
      ]
     },
     "metadata": {
      "needs_background": "light"
     },
     "output_type": "display_data"
    }
   ],
   "source": [
    "history = pd.DataFrame(model.history.history)\n",
    "history.loss.plot()"
   ]
  },
  {
   "cell_type": "code",
   "execution_count": 32,
   "metadata": {},
   "outputs": [
    {
     "data": {
      "text/plain": [
       "<matplotlib.axes._subplots.AxesSubplot at 0x1e1917a8ca0>"
      ]
     },
     "execution_count": 32,
     "metadata": {},
     "output_type": "execute_result"
    },
    {
     "data": {
      "image/png": "[encoded data removed]",
      "text/plain": [
       "<Figure size 432x288 with 1 Axes>"
      ]
     },
     "metadata": {
      "needs_background": "light"
     },
     "output_type": "display_data"
    }
   ],
   "source": [
    "history.accuracy.plot()"
   ]
  },
  {
   "cell_type": "code",
   "execution_count": 33,
   "metadata": {},
   "outputs": [
    {
     "data": {
      "text/plain": [
       "<matplotlib.axes._subplots.AxesSubplot at 0x1e1928018e0>"
      ]
     },
     "execution_count": 33,
     "metadata": {},
     "output_type": "execute_result"
    },
    {
     "data": {
      "image/png": "[encoded data removed]",
      "text/plain": [
       "<Figure size 432x288 with 1 Axes>"
      ]
     },
     "metadata": {
      "needs_background": "light"
     },
     "output_type": "display_data"
    }
   ],
   "source": [
    "history.val_loss.plot()"
   ]
  },
  {
   "cell_type": "code",
   "execution_count": 34,
   "metadata": {
    "scrolled": true
   },
   "outputs": [
    {
     "data": {
      "text/plain": [
       "<matplotlib.axes._subplots.AxesSubplot at 0x1e19283ed30>"
      ]
     },
     "execution_count": 34,
     "metadata": {},
     "output_type": "execute_result"
    },
    {
     "data": {
      "image/png": "[encoded data removed]",
      "text/plain": [
       "<Figure size 432x288 with 1 Axes>"
      ]
     },
     "metadata": {
      "needs_background": "light"
     },
     "output_type": "display_data"
    }
   ],
   "source": [
    "history.val_accuracy.plot()"
   ]
  },
  {
   "cell_type": "code",
   "execution_count": 36,
   "metadata": {},
   "outputs": [
    {
     "name": "stdout",
     "output_type": "stream",
     "text": [
      "660/660 [==============================] - 3s 5ms/step - loss: 0.2265 - accuracy: 0.9162\n"
     ]
    },
    {
     "data": {
      "text/plain": [
       "[0.22648970782756805, 0.9162402749061584]"
      ]
     },
     "execution_count": 36,
     "metadata": {},
     "output_type": "execute_result"
    }
   ],
   "source": [
    "model.evaluate(X_test, y_test)"
   ]
  },
  {
   "cell_type": "code",
   "execution_count": null,
   "metadata": {},
   "outputs": [],
   "source": []
  }
 ],
 "metadata": {
  "kernelspec": {
   "display_name": "Python 3",
   "language": "python",
   "name": "python3"
  },
  "language_info": {
   "codemirror_mode": {
    "name": "ipython",
    "version": 3
   },
   "file_extension": ".py",
   "mimetype": "text/x-python",
   "name": "python",
   "nbconvert_exporter": "python",
   "pygments_lexer": "ipython3",
   "version": "3.8.2"
  }
 },
 "nbformat": 4,
 "nbformat_minor": 4
}
